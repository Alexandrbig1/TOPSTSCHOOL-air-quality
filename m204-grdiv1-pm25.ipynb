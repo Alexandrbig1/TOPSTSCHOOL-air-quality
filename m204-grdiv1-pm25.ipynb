{
  "cells": [
    {
      "cell_type": "raw",
      "metadata": {},
      "source": [
        "---\n",
        "title: \"Particulate Matter Across Socioeconomic Strata of Countries\"\n",
        "author: \"Juan F. Martinez\"\n",
        "format: html\n",
        "bibliography: references.bib\n",
        "---"
      ],
      "id": "b6d6fafb"
    },
    {
      "cell_type": "markdown",
      "metadata": {},
      "source": [
        "## Overview\n",
        "\n",
        "In this lesson, you will use NASA socioeconomic and environmental Earthdata available at NASA SEDAC to compare relationships between levels of socioeconomic deprivation agaisnts air quality data of particulate matter (PM) in different international administrative areas.  \n",
        "\n",
        "This lesson walks through the process of calculating and visualizing zonal statistics for a set of countries using raster data, focusing on GRDI country quintiles and PM2.5 concentration levels within these quintile areas. It begins by subsetting data by country and iterating over each country to extract relevant zonal statistics like mean, median, and various percentiles for each quintile. These statistics are stored in a GeoDataFrame, which is later used to create a choropleth map that visualizes specific GRDI metrics across countries. The lesson includes a detailed analysis of PM2.5 concentrations within different GRDI quartiles for selected countries. This involves clipping the raster data to each country's geometry, filtering the data based on the GRDI quartiles, and calculating the mean PM2.5 levels for each quartile. The results are then visualized using customized plots to highlight the relationship between air quality and GRDI metrics across the selected countries.\n",
        "\n",
        "\n",
        "## Learning Objectives\n",
        "\n",
        "After completing this lesson, you should be able to:\n",
        "\n",
        "-   Gain a general understanding of what is particulate matter (PM) in the air and how it impacts human health.\n",
        "-   Learn about global socioeconomic dimensions of deprivation and how they are spatially represented. \n",
        "-   Find statistical thresholds in socioeconomic data. \n",
        "-   Perform zonal statistics to summarize spatial data\n",
        "-   Resample spatial data to harmoniza and compare socioeconomic data against environmental data.\n",
        "-   Display data on a maps to get a general understanding of the spatial distribution of data.\n",
        "-   Summarize spatial data into table plots to compare how air quality differs in different socioeconomic conditions of international administrative areas.\n",
        "\n",
        "## Introduction\n",
        "\n",
        "\n",
        "\n",
        "## Data Collection and Integration\n",
        "\n",
        "The **Global (GL) Annual PM2.5 Grids from MODIS, MISR and SeaWiFS Aerosol Optical Depth (AOD), v4.03 (1998 – 2019)** can can be downloaded from the Socioeconomic Data and Applications Center (\\[SEDAC\\](<https://sedac.ciesin.columbia.edu/>)) [@centerforinternationalearthscienceinformationnetwork-ciesin-columbiauniversity2022].\n",
        "\n",
        "The **Global Gridded Relative Deprivation Index (GRDI), v1 (2010 – 2020)** dataset can be downloaded from SEDAC as well [@centerforinternationalearthscienceinformationnetwork-ciesin-columbiauniversity2022a].\n",
        "\n",
        "Gather comprehensive datasets from reliable sources such as the US EPA's EJSCREEN tool and other public health databases like John Hopkins and County Health Rankings. Integrate relevant environmental data (e.g., air pollutant concentrations, pollution source proximity) with health outcomes data (e.g., COVID-19 prevalence, NSCLC incidence). Ensure data compatibility and quality through data cleaning and validation procedures.\n",
        "\n",
        "### Preparing Environment and Variables\n",
        "\n",
        "Importing python packages required:"
      ],
      "id": "a431ab4e"
    },
    {
      "cell_type": "code",
      "metadata": {},
      "source": [
        "import xarray as xr\n",
        "import rioxarray\n",
        "import rasterstats\n",
        "from rasterio.enums import Resampling\n",
        "import pandas as pd\n",
        "import matplotlib.pyplot as plt\n",
        "import numpy as np\n",
        "import geopandas as gpd\n",
        "import pygadm\n",
        "\n",
        "import plotly.graph_objects as go "
      ],
      "id": "2aea7bac",
      "execution_count": null,
      "outputs": []
    },
    {
      "cell_type": "markdown",
      "metadata": {},
      "source": [
        "Load the GRDIv1 and PM2.5 data from local sources:"
      ],
      "id": "ffdf8618"
    },
    {
      "cell_type": "code",
      "metadata": {},
      "source": [
        "# Load rasters\n",
        "grdi_path = r\"Z:\\Sedac\\GRDI\\data\\povmap-grdi-v1-geotiff\\final data\\povmap-grdi-v1.tif\"\n",
        "pm25_path = r\"F:\\TOPSSCHOOL\\git\\TOPSTSCHOOL-air-quality\\data\\sdei-global-annual-gwr-pm2-5-modis-misr-seawifs-aod-v4-gl-03-2019-geotiff\\sdei-global-annual-gwr-pm2-5-modis-misr-seawifs-aod-v4-gl-03-2019.tif\""
      ],
      "id": "aa2009b9",
      "execution_count": null,
      "outputs": []
    },
    {
      "cell_type": "markdown",
      "metadata": {},
      "source": [
        "Using the package rasterio to load the data into memory. This allows us to read the data and use it for processing. "
      ],
      "id": "bd6af125"
    },
    {
      "cell_type": "code",
      "metadata": {},
      "source": [
        "# Open the input and reference rasters\n",
        "grdi_raster = rioxarray.open_rasterio(grdi_path, mask_and_scale=True)\n",
        "pm25_raster = rioxarray.open_rasterio(pm25_path, mask_and_scale=True)"
      ],
      "id": "837e065e",
      "execution_count": null,
      "outputs": []
    },
    {
      "cell_type": "markdown",
      "metadata": {},
      "source": [
        "### Matching Data Points using Bilinear Resample \n",
        "\n",
        "The GRDI raster and PM2.5 rasters are incompatible in resolution. One method of harmonizing data is by using the `Resampling` bethod with a *bilinear* method. In this case, we reduce, or coarsen, the resolution of the GRDI raster to match the PM2.5 raster. "
      ],
      "id": "1b090dca"
    },
    {
      "cell_type": "code",
      "metadata": {},
      "source": [
        "# Resample the input raster to match the reference raster\n",
        "grdi_raster = grdi_raster.rio.reproject_match(pm25_raster,resampling=Resampling.bilinear)"
      ],
      "id": "c6e2b8fd",
      "execution_count": null,
      "outputs": []
    },
    {
      "cell_type": "markdown",
      "metadata": {},
      "source": [
        "## Previewing Spatial Data in a Plot"
      ],
      "id": "2d475ab5"
    },
    {
      "cell_type": "code",
      "metadata": {},
      "source": [
        "# Plotting the rasters\n",
        "fig, (ax1, ax2) = plt.subplots(2, 1, figsize=(10, 20))\n",
        "\n",
        "# Plot the original GRDI raster in the first subplot\n",
        "im1 = ax1.imshow(grdi_raster.values[0], cmap='viridis', interpolation='nearest')\n",
        "ax1.set_title('Original GRDI Raster')\n",
        "fig.colorbar(im1, ax=ax1, orientation='horizontal', label='GRDI Values')\n",
        "\n",
        "# Plot the PM2.5 raster in the second subplot\n",
        "im2 = ax2.imshow(pm25_raster.values[0], cmap='hot', interpolation='nearest')\n",
        "ax2.set_title('PM2.5 Raster')\n",
        "fig.colorbar(im2, ax=ax2, orientation='horizontal', label='PM2.5 Values')\n",
        "\n",
        "\n",
        "# Show the plots\n",
        "plt.tight_layout()\n",
        "plt.show()"
      ],
      "id": "7353da5f",
      "execution_count": null,
      "outputs": []
    },
    {
      "cell_type": "markdown",
      "metadata": {},
      "source": [
        "## Working with administrative Data\n",
        "\n",
        "`pygadm` is a package that has international administrative units from levels 0 to 2. We can search the available countries by listing the Names."
      ],
      "id": "748695fb"
    },
    {
      "cell_type": "code",
      "metadata": {},
      "source": [
        "country_table = gpd.GeoDataFrame(pygadm.Names())\n",
        "len(country_table)"
      ],
      "id": "c4e3e9b2",
      "execution_count": null,
      "outputs": []
    },
    {
      "cell_type": "markdown",
      "metadata": {},
      "source": [
        "Some available areas with a unique `GID_0` code share Names; therefore we drop the rows that contain digits. "
      ],
      "id": "8019cc9c"
    },
    {
      "cell_type": "code",
      "metadata": {},
      "source": [
        "country_table = country_table[~country_table['GID_0'].str.contains('\\d', na=False)]\n",
        "len(country_table)"
      ],
      "id": "a2f1ecd4",
      "execution_count": null,
      "outputs": []
    },
    {
      "cell_type": "markdown",
      "metadata": {},
      "source": [
        "### Subset Data From a Table\n",
        "Doing Zonal statistics for more than 200 countries may take a while, therefore, we can subset the data randomly with the `.sample()` method.\n"
      ],
      "id": "de37e6ed"
    },
    {
      "cell_type": "code",
      "metadata": {},
      "source": [
        "country_sample = country_table.sample(n=15)\n",
        "country_sample"
      ],
      "id": "b0be45fc",
      "execution_count": null,
      "outputs": []
    },
    {
      "cell_type": "markdown",
      "metadata": {},
      "source": [
        "## Zonal Statistics for Each Administrative Area \n",
        "`rasterstats` has a funcion `zonal_stats()` which allows you to use vectors to summarize raster data. We summarize GRDIv1 data to calculate the following statistics: count, minimum, mean, max, median, standard deviation, range, and percentiles 20, 40, 60, and 80. \n"
      ],
      "id": "998dd240"
    },
    {
      "cell_type": "code",
      "metadata": {},
      "source": [
        "stats_results = gpd.GeoDataFrame()\n",
        "\n",
        "for index, row in country_sample.iloc[:].iterrows():\n",
        "    country = row['NAME_0']\n",
        "    country_GID = row['GID_0']\n",
        "    try:\n",
        "        country_poly =  pygadm.Items(admin=country_GID, content_level=0)\n",
        "    except:\n",
        "        print(country, \" skipped.\")\n",
        "        continue\n",
        "\n",
        "    # Create a mask for the polygons\n",
        "    grdi_country_zs= rasterstats.zonal_stats(country_poly, grdi_raster.values[0], affine=grdi_raster.rio.transform(), stats=\"count min mean max median std median range percentile_20 percentile_40 percentile_60 percentile_80\")\n",
        "    # # pm25_country_zs= rasterstats.zonal_stats(country_poly, pm25_arr, affine=pm25_transform, stats=\"count min mean max median std median range percentile_20 percentile_40 percentile_60 percentile_80\", nodata=pm25_raster.nodata)\n",
        "    # # Extract statistics into a dictionary\n",
        "    country_stats = {\n",
        "        'Country_Name': country,\n",
        "        'Country_GID' : country_GID,\n",
        "        'GRDI_Count': grdi_country_zs[0]['count'],\n",
        "        'GRDI_Min': grdi_country_zs[0]['min'],\n",
        "        'GRDI_Mean': grdi_country_zs[0]['mean'],\n",
        "        'GRDI_Max': grdi_country_zs[0]['max'],\n",
        "        'GRDI_Median': grdi_country_zs[0]['median'],\n",
        "        'GRDI_Std': grdi_country_zs[0]['std'],\n",
        "        'GRDI_Range': grdi_country_zs[0]['range'],\n",
        "        'GRDI_P20': grdi_country_zs[0]['percentile_20'],\n",
        "        'GRDI_P40': grdi_country_zs[0]['percentile_40'],\n",
        "        'GRDI_P60': grdi_country_zs[0]['percentile_60'],\n",
        "        'GRDI_P80': grdi_country_zs[0]['percentile_80'],\n",
        "        #     # 'PM25_Count': pm25_country_zs[0]['count'],\n",
        "        #     # 'PM25_Min': pm25_country_zs[0]['min'],\n",
        "        # 'PM25_Mean': pm25_country_zs[0]['mean'],\n",
        "        #     # 'PM25_Max': pm25_country_zs[0]['max'],\n",
        "        #     # 'PM25_Median': pm25_country_zs[0]['median'],\n",
        "        #     # 'PM25_Std': pm25_country_zs[0]['std'],\n",
        "        #     # 'PM25_Range': pm25_country_zs[0]['range'],\n",
        "        #     # 'PM25_P20': pm25_country_zs[0]['percentile_20'],\n",
        "        #     # 'PM25_P40': pm25_country_zs[0]['percentile_40'],\n",
        "        #     # 'PM25_P60': pm25_country_zs[0]['percentile_60'],\n",
        "        #     # 'PM25_P80': pm25_country_zs[0]['percentile_80'],\n",
        "        'geometry' : country_poly['geometry'].iloc[0]\n",
        "    }\n",
        "    country_stats_gdf = gpd.GeoDataFrame([country_stats], geometry='geometry')\n",
        "    # stats_results.append(country_stats_gdf)\n",
        "    stats_results = pd.concat([stats_results, country_stats_gdf], ignore_index=True)\n"
      ],
      "id": "6b1ff53b",
      "execution_count": null,
      "outputs": []
    },
    {
      "cell_type": "markdown",
      "metadata": {},
      "source": [
        "Let's use the `.head()` method from Pandas to check the top of our table"
      ],
      "id": "4c19ce9d"
    },
    {
      "cell_type": "code",
      "metadata": {},
      "source": [
        "stats_results.head()"
      ],
      "id": "629bf07e",
      "execution_count": null,
      "outputs": []
    },
    {
      "cell_type": "markdown",
      "metadata": {},
      "source": [
        "## Defining a Funtion\n",
        "\n",
        "We can create a custom function that can allow us to use the zonal statistics process multiple times. A custom function can be created using the `def FUNCTION_NAME(PARAMETER1, PARAMETER2):` fuction to define what the fucntion will do.\n"
      ],
      "id": "39827ce3"
    },
    {
      "cell_type": "code",
      "metadata": {},
      "source": [
        "def calculate_country_stats(country_sample, grdi_raster, pm25_raster=None):\n",
        "    \"\"\"\n",
        "    Calculate statistics for each country in the sample.\n",
        "\n",
        "    Parameters:\n",
        "    - country_sample: A pandas DataFrame containing country information with 'NAME_0' and 'GID_0' columns, in this case the country_table.\n",
        "    - grdi_raster: A raster object with which to perform the zonal statistics.\n",
        "    - pm25_raster: (Optional) A raster object for PM2.5 data. If provided, statistics will also be calculated for this raster.\n",
        "\n",
        "    Returns:\n",
        "    - stats_results: A GeoDataFrame containing the statistics for each country.\n",
        "    \"\"\"\n",
        "    stats_results = gpd.GeoDataFrame()\n",
        "\n",
        "    for index, row in country_sample.iloc[:].iterrows():\n",
        "        country = row['NAME_0']\n",
        "        country_GID = row['GID_0']\n",
        "        try:\n",
        "            country_poly = pygadm.Items(admin=country_GID, content_level=0)\n",
        "        except Exception as e:\n",
        "            print(country, \"skipped due to error:\", e)\n",
        "            continue\n",
        "\n",
        "        # Create a mask for the polygons and perform zonal statistics on GRDI raster\n",
        "        grdi_country_zs = rasterstats.zonal_stats(\n",
        "            country_poly, grdi_raster.values[0], \n",
        "            affine=grdi_raster.rio.transform(), \n",
        "            stats=\"count min mean max median std range percentile_20 percentile_40 percentile_60 percentile_80\"\n",
        "        )\n",
        "\n",
        "        # Uncomment and update the following lines if you want to include PM2.5 statistics\n",
        "        # if pm25_raster is not None:\n",
        "        #     pm25_country_zs = rasterstats.zonal_stats(\n",
        "        #         country_poly, pm25_raster.values[0], \n",
        "        #         affine=pm25_raster.rio.transform(), \n",
        "        #         stats=\"count min mean max median std range percentile_20 percentile_40 percentile_60 percentile_80\", \n",
        "        #         nodata=pm25_raster.nodata\n",
        "        #     )\n",
        "\n",
        "        # Extract statistics into a dictionary\n",
        "        country_stats = {\n",
        "            'Country_Name': country,\n",
        "            'Country_GID' : country_GID,\n",
        "            'GRDI_Count': grdi_country_zs[0]['count'],\n",
        "            'GRDI_Min': grdi_country_zs[0]['min'],\n",
        "            'GRDI_Mean': grdi_country_zs[0]['mean'],\n",
        "            'GRDI_Max': grdi_country_zs[0]['max'],\n",
        "            'GRDI_Median': grdi_country_zs[0]['median'],\n",
        "            'GRDI_Std': grdi_country_zs[0]['std'],\n",
        "            'GRDI_Range': grdi_country_zs[0]['range'],\n",
        "            'GRDI_P20': grdi_country_zs[0]['percentile_20'],\n",
        "            'GRDI_P40': grdi_country_zs[0]['percentile_40'],\n",
        "            'GRDI_P60': grdi_country_zs[0]['percentile_60'],\n",
        "            'GRDI_P80': grdi_country_zs[0]['percentile_80'],\n",
        "            'geometry' : country_poly['geometry'].iloc[0]\n",
        "        }\n",
        "\n",
        "        # If PM2.5 statistics are calculated, add them to the dictionary\n",
        "        # if pm25_raster is not None:\n",
        "        #     country_stats.update({\n",
        "        #         'PM25_Count': pm25_country_zs[0]['count'],\n",
        "        #         'PM25_Min': pm25_country_zs[0]['min'],\n",
        "        #         'PM25_Mean': pm25_country_zs[0]['mean'],\n",
        "        #         'PM25_Max': pm25_country_zs[0]['max'],\n",
        "        #         'PM25_Median': pm25_country_zs[0]['median'],\n",
        "        #         'PM25_Std': pm25_country_zs[0]['std'],\n",
        "        #         'PM25_Range': pm25_country_zs[0]['range'],\n",
        "        #         'PM25_P20': pm25_country_zs[0]['percentile_20'],\n",
        "        #         'PM25_P40': pm25_country_zs[0]['percentile_40'],\n",
        "        #         'PM25_P60': pm25_country_zs[0]['percentile_60'],\n",
        "        #         'PM25_P80': pm25_country_zs[0]['percentile_80'],\n",
        "        #     })\n",
        "\n",
        "        country_stats_gdf = gpd.GeoDataFrame([country_stats], geometry='geometry')\n",
        "        stats_results = pd.concat([stats_results, country_stats_gdf], ignore_index=True)\n",
        "\n",
        "    return stats_results\n"
      ],
      "id": "e88031de",
      "execution_count": null,
      "outputs": []
    },
    {
      "cell_type": "markdown",
      "metadata": {},
      "source": [
        "From the table above, we can choose an attribute, or column, to display it in a map plot. In this case, I'm choosing the GRDI Max "
      ],
      "id": "b2ce80df"
    },
    {
      "cell_type": "code",
      "metadata": {},
      "source": [
        "column_chosen = 'GRDI_Max' #GRDI_Max, GRDI_Min, GRDI_Median\n",
        "# Plotting\n",
        "fig, ax = plt.subplots(1, 1, figsize=(15, 10))\n",
        "stats_results.plot(column=column_chosen, ax=ax, legend=True,\n",
        "    legend_kwds={'label': f\"{column_chosen} per country.\",\n",
        "                      'orientation': \"horizontal\"})\n",
        "ax.set_title('Choropleth Map Showing GRDI Mean per country')\n",
        "ax.set_axis_off()  # Turn off the axis numbers and ticks\n",
        "plt.show()"
      ],
      "id": "889ba988",
      "execution_count": null,
      "outputs": []
    },
    {
      "cell_type": "markdown",
      "metadata": {},
      "source": [
        "### Selecting Data by Column\n",
        "Start my creating a list of countries that you are interested in to Subset data from the DataFrame that match the values in the `NAME_0` column. The `.isin()` mehthod checks each element in the DataFrame's column for the item present in the list and returns matching rows.\n"
      ],
      "id": "1d23436d"
    },
    {
      "cell_type": "code",
      "metadata": {},
      "source": [
        "# selected_countries = [\"Algeria\", \"Somalia\", \"Colombia\", \"Timor Leste\", \"Finland\", \"Nicaragua\", \"United Kingdom\", \"Mali\"]\n",
        "# selected_countries = [\"Anguilla\", \"Armenia\", \"Angola\", \"Argentina\", \"Albania\", \"United Arab Emirates\", \"American Samoa\", \"Australia\" ]\n",
        "selected_countries = [\"Algeria\", \"Somalia\", \"Colombia\", \"Timor Leste\", \"Finland\", \"Nicaragua\", \"United Kingdom\", \"Mali\", \"Armenia\", \"Argentina\",  \"Albania\", \"United Arab Emirates\", \"Indonesia\", \"Qatar\"]\n",
        "\n",
        "#use the list above to subset the country_table DataFrame by the column NAME_0 \n",
        "selected_countries = country_table[country_table['NAME_0'].isin(selected_countries)]"
      ],
      "id": "408b9f88",
      "execution_count": null,
      "outputs": []
    },
    {
      "cell_type": "markdown",
      "metadata": {},
      "source": [
        "### Using a Defined Custom Function\n",
        "Recalling the defined fucntion `calculate_country_stats`, we can use our `selected_countries` list, and the GRDI and PM2.5 rasters, to create a new table of zonal statistics. "
      ],
      "id": "792c4132"
    },
    {
      "cell_type": "code",
      "metadata": {},
      "source": [
        "stats_results = calculate_country_stats(selected_countries, grdi_raster)"
      ],
      "id": "b434040f",
      "execution_count": null,
      "outputs": []
    },
    {
      "cell_type": "markdown",
      "metadata": {},
      "source": [
        "Show the head of the table again:\n"
      ],
      "id": "b5e37b79"
    },
    {
      "cell_type": "code",
      "metadata": {},
      "source": [
        "stats_results.head()"
      ],
      "id": "d8532dd5",
      "execution_count": null,
      "outputs": []
    },
    {
      "cell_type": "markdown",
      "metadata": {},
      "source": [
        "Plot the map again choosing a column to plot:\n"
      ],
      "id": "76bd5f53"
    },
    {
      "cell_type": "code",
      "metadata": {},
      "source": [
        "column_chosen = 'GRDI_Max' #GRDI_Max, GRDI_Min, GRDI_Median\n",
        "stats_results.plot(column=column_chosen, legend=True)\n",
        "plt.show() "
      ],
      "id": "7985c985",
      "execution_count": null,
      "outputs": []
    },
    {
      "cell_type": "markdown",
      "metadata": {},
      "source": [
        "## Creating a Table with Results\n",
        "\n",
        "We can create a list of **tuples** that we can use to refer to the GRDI statistical values, and the name, color, and symbol we want to assign.\n",
        "In this case, we are using the GRDI zonal statistics of each country we selected that include the Mean, Minimum, Maximum, and interquartiles.  "
      ],
      "id": "642a416f"
    },
    {
      "cell_type": "code",
      "metadata": {},
      "source": [
        "# List of GRDI values and their corresponding properties\n",
        "#column, value name, color, symbol\n",
        "grdi_data = [\n",
        "    ('GRDI_Mean', 'Mean', 'orange', 'diamond'),\n",
        "    ('GRDI_Min', 'Min', 'gray', '152'),\n",
        "    ('GRDI_Max', 'Max', 'gray', '151'),\n",
        "    ('GRDI_P20', 'Q20', 'blue', '142'),\n",
        "    ('GRDI_P40', 'Q40', 'purple', '142'),\n",
        "    ('GRDI_P60', 'Q60', 'green', '142'),\n",
        "    ('GRDI_P80', 'Q80', 'red', '142')\n",
        "]"
      ],
      "id": "f4ce48d9",
      "execution_count": null,
      "outputs": []
    },
    {
      "cell_type": "markdown",
      "metadata": {},
      "source": [
        "We can create a figure to display the data based on the names colors and symbols we selected."
      ],
      "id": "73a3e2fb"
    },
    {
      "cell_type": "code",
      "metadata": {},
      "source": [
        "# Create a figure\n",
        "fig = go.Figure()\n",
        "\n",
        "# Add traces to the figure based on the data\n",
        "for col, name, color, symbol in grdi_data:\n",
        "    fig.add_trace(go.Scatter(\n",
        "        x=stats_results[col],\n",
        "        y=stats_results['Country_Name'],\n",
        "        mode='markers',\n",
        "        name=name,\n",
        "        marker=dict(color=color, size=10, symbol=symbol)\n",
        "    ))\n",
        "\n",
        "# Customize layout\n",
        "fig.update_layout(\n",
        "    title='GRDI Statistics by Country',\n",
        "    xaxis_title='GRDI Values',\n",
        "    yaxis_title='Country Name',\n",
        "    yaxis=dict(tickmode='linear'),\n",
        "    legend_title='Statistics',\n",
        "    yaxis_type='category',\n",
        "    xaxis=dict(tickvals=[0, 20, 40, 60, 80, 100])\n",
        ")\n",
        "\n",
        "# Show plot\n",
        "fig.show()"
      ],
      "id": "d271aee7",
      "execution_count": null,
      "outputs": []
    },
    {
      "cell_type": "markdown",
      "metadata": {},
      "source": [
        "## Summarizing PM2.5 Values by Socioeconomic Deprivation\n",
        "Considering the GRDI quartile values as a level of socieoeconomic deprivation within each country, we can use the `stats_results` GeoDataFrame, the GRDI raster, and the PM2.5 raster to calculate the Mean PM.25 value within each of those areas in each country. This can describe how the air quality for different socioeconomic strata compare within the country, as well as against other countries. \n",
        "\n",
        "The results will be added to the `stats_results` with the corresponting columns. "
      ],
      "id": "a2cdd90d"
    },
    {
      "cell_type": "code",
      "metadata": {},
      "source": [
        "# iterate through the stats_results table rows\n",
        "for index, row in stats_results.iloc[:].iterrows():\n",
        "    #isolate each country's respective row\n",
        "    row_df = gpd.GeoDataFrame([row], geometry='geometry').reset_index(drop=True)\n",
        "    print(row_df.loc[0,'Country_GID'])\n",
        "    try:\n",
        "        #use rioxarray to clip the GRDI and PM2.5 rasters by the geometry of the respective country.\n",
        "        grdi_country = grdi_raster.rio.clip(row_df.geometry, grdi_raster.rio.crs)\n",
        "        pm25_country = pm25_raster.rio.clip(row_df.geometry, grdi_raster.rio.crs)\n",
        "    except:\n",
        "        print('Error in clip')\n",
        "        continue\n",
        "\n",
        "    #Applying squeeze() to this array removes the singleton dimension, reducing it to a 2D array with dimensions (rows, columns)\n",
        "    grdi_country= grdi_country.squeeze()\n",
        "    pm25_country= pm25_country.squeeze()\n",
        "\n",
        "\n",
        "    # Subset the GRDI raster where values fall between each GRDI quintiles\n",
        "    grdi_countryQ1 = grdi_country.where((grdi_country >= row_df.loc[0, 'GRDI_Min']) & (grdi_country <= row_df.loc[0, 'GRDI_P20']))\n",
        "    grdi_countryQ2 = grdi_country.where((grdi_country >= row_df.loc[0, 'GRDI_P20']) & (grdi_country <= row_df.loc[0, 'GRDI_P40']))\n",
        "    grdi_countryQ3 = grdi_country.where((grdi_country >= row_df.loc[0, 'GRDI_P40']) & (grdi_country <= row_df.loc[0, 'GRDI_P60']))\n",
        "    grdi_countryQ4 = grdi_country.where((grdi_country >= row_df.loc[0, 'GRDI_P60']) & (grdi_country <= row_df.loc[0, 'GRDI_P80']))\n",
        "    grdi_countryQ5 = grdi_country.where((grdi_country >= row_df.loc[0, 'GRDI_P80']) & (grdi_country <= row_df.loc[0, 'GRDI_Max']))\n",
        "\n",
        "\n",
        "    # Mask the PM2.5 raster using the above GRDI quartile rasters, keeping only the cells that intersect\n",
        "    pm25_countryQ1 = pm25_country.where(grdi_countryQ1.notnull())\n",
        "    pm25_countryQ2 = pm25_country.where(grdi_countryQ2.notnull())\n",
        "    pm25_countryQ3 = pm25_country.where(grdi_countryQ3.notnull())\n",
        "    pm25_countryQ4 = pm25_country.where(grdi_countryQ4.notnull())\n",
        "    pm25_countryQ5 = pm25_country.where(grdi_countryQ5.notnull())\n",
        "\n",
        "    #Find the mean value of of the intersected PM2.5 rasters in each quartile\n",
        "    pm25_countryQ1v = pm25_countryQ1.mean().item()\n",
        "    pm25_countryQ2v = pm25_countryQ2.mean().item()\n",
        "    pm25_countryQ3v = pm25_countryQ3.mean().item()\n",
        "    pm25_countryQ4v = pm25_countryQ4.mean().item()\n",
        "    pm25_countryQ5v = pm25_countryQ5.mean().item()\n",
        "\n",
        "    #add the resuts to the stats_results table in the respective column\n",
        "    stats_results.at[index, 'PM25_Q1'] = pm25_countryQ1v\n",
        "    stats_results.at[index, 'PM25_Q2'] = pm25_countryQ2v\n",
        "    stats_results.at[index, 'PM25_Q3'] = pm25_countryQ3v\n",
        "    stats_results.at[index, 'PM25_Q4'] = pm25_countryQ4v\n",
        "    stats_results.at[index, 'PM25_Q5'] = pm25_countryQ5v"
      ],
      "id": "b5828be7",
      "execution_count": null,
      "outputs": []
    },
    {
      "cell_type": "code",
      "metadata": {},
      "source": [
        "stats_results.head()"
      ],
      "id": "093b0ba6",
      "execution_count": null,
      "outputs": []
    },
    {
      "cell_type": "markdown",
      "metadata": {},
      "source": [
        "## Plot Results of Mean PM2.5 in Socieceonomic Deprivation Quartiles per country\n",
        "Similarly, we create a list of tuples of how we want to display the data, and create a figure based on the tuples. This plot would show each country in the y axis and the Log of Mean PM2.5 values in each country's GRDI quarties."
      ],
      "id": "505eb844"
    },
    {
      "cell_type": "code",
      "metadata": {},
      "source": [
        "# List of GRDI values and their corresponding properties\n",
        "#column, value name, color, symbol\n",
        "plot_data =[\n",
        "    ('PM25_Q1', 'Q1', '#440154', '6'),  # Light Blue\n",
        "    ('PM25_Q2', 'Q2', '#31688E', '5'),  # Light Green\n",
        "    ('PM25_Q3', 'Q3', '#35B779', '7'),  # Yellow\n",
        "    ('PM25_Q4', 'Q4', '#FDE725', '8'),  # Orange\n",
        "    ('PM25_Q5', 'Q5', '#FF0000', '1')   # Red\n",
        "]\n",
        "\n",
        "# Create a figure\n",
        "fig = go.Figure()\n",
        "\n",
        "# Add traces to the figure.\n",
        "for col, name, color, symbol in plot_data:\n",
        "    xlog  = np.log(stats_results[col])\n",
        "    fig.add_trace(go.Scatter(\n",
        "        x=xlog,\n",
        "        y=stats_results['Country_Name'],\n",
        "        mode='markers+text',  # Add 'text' to mode\n",
        "        text=[f'<b>{name}</b>' for _ in stats_results[col]],  # Repeat name for each point\n",
        "        name=name,\n",
        "        textfont=dict(color=color, size=12),\n",
        "        textposition='top center',  # Position the text above the symbol\n",
        "        marker_color=color,\n",
        "        marker_line_color=\"midnightblue\",\n",
        "        marker_symbol=symbol,\n",
        "        marker_size=14,\n",
        "        marker_line_width=2,\n",
        "        marker_opacity=0.6\n",
        "        ))\n",
        "fig.update_traces(textposition='top center')\n",
        "\n",
        "    # Customize layout\n",
        "fig.update_layout(\n",
        "    title='Mean PM2.5 in each GRDI Quartile by Country',\n",
        "    xaxis_title='Log of PM2.5 Mean Values',\n",
        "    yaxis_title='Country Name',\n",
        "    yaxis=dict(tickmode='linear'),\n",
        "    legend_title='Statistics',\n",
        "    yaxis_type='category',\n",
        "    xaxis=dict(rangemode=\"tozero\"),\n",
        "    \n",
        "    #xaxis=dict(tickvals=[0, 20, 40, 60, 80, 100])\n",
        "    )\n",
        "\n",
        "# Show plot\n",
        "fig.show()"
      ],
      "id": "a3d97638",
      "execution_count": null,
      "outputs": []
    },
    {
      "cell_type": "markdown",
      "metadata": {},
      "source": [
        "Use the plotly controls to take a closer look at the results. \n",
        "\n",
        "With this shapely plot, We can examine differences between countires and PM2.5 values. The plot displays the coutnries on the Y axis and log values of the average PM2.5 value on the X axis. Each country displays PM2.5 values averaged within the quartile areas based on GRDI values of each country. A higher quartile (Q) implies a higher degree of deprivation, 1 being the lowest and 5 the highest.  \n",
        "\n",
        "Congratulations! .... Now you should be able to:\n",
        "\n",
        "-   Test test...\n",
        "\n",
        "## Module 2: Air Quality Home\n",
        "\n",
        "In this lesson, we explored ....\n",
        "\n",
        "[Module 2: Air Quality](https://ciesin-geospatial.github.io/TOPSTSCHOOL-air-quality/index.html){.btn .btn-primary .btn role=\"button\"}"
      ],
      "id": "064eaed6"
    }
  ],
  "metadata": {
    "kernelspec": {
      "name": "python3",
      "language": "python",
      "display_name": "Python 3 (ipykernel)"
    }
  },
  "nbformat": 4,
  "nbformat_minor": 5
}