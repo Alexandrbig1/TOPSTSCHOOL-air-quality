{
 "cells": [
  {
   "cell_type": "code",
   "execution_count": 1,
   "metadata": {},
   "outputs": [],
   "source": [
    "import arcgis\n",
    "from arcgis.gis import GIS\n",
    "from arcgis.raster import *\n",
    "# from arcgis.layers import Service \n"
   ]
  },
  {
   "cell_type": "code",
   "execution_count": 20,
   "metadata": {},
   "outputs": [
    {
     "data": {
      "text/plain": [
       "'2.1.0.2'"
      ]
     },
     "execution_count": 20,
     "metadata": {},
     "output_type": "execute_result"
    }
   ],
   "source": [
    "arcgis.__version__"
   ]
  },
  {
   "cell_type": "code",
   "execution_count": null,
   "metadata": {},
   "outputs": [],
   "source": []
  },
  {
   "cell_type": "code",
   "execution_count": 2,
   "metadata": {},
   "outputs": [],
   "source": [
    "# Connect to your ArcGIS Enteprise or AGOL\n",
    "portal_url = 'https://gis.earthdata.nasa.gov/portal'\n",
    "gis = GIS(portal_url) #anonymous user"
   ]
  },
  {
   "cell_type": "code",
   "execution_count": 3,
   "metadata": {},
   "outputs": [
    {
     "data": {
      "application/vnd.jupyter.widget-view+json": {
       "model_id": "f95794849f1941039322dad140c3c4d3",
       "version_major": 2,
       "version_minor": 0
      },
      "text/plain": [
       "MapView(layout=Layout(height='400px', width='100%'))"
      ]
     },
     "metadata": {},
     "output_type": "display_data"
    },
    {
     "data": {
      "text/html": [
       "<div class=\"map-static-img-preview-65c781f1-7c05-4b0e-9a49-785685fe68b5\"><img src=\"\"></img></div>"
      ],
      "text/plain": [
       "<IPython.core.display.HTML object>"
      ]
     },
     "metadata": {},
     "output_type": "display_data"
    },
    {
     "data": {
      "text/html": [
       "<div class=\"map-html-embed-preview-65c781f1-7c05-4b0e-9a49-785685fe68b5\"></div>"
      ],
      "text/plain": [
       "<IPython.core.display.HTML object>"
      ]
     },
     "metadata": {},
     "output_type": "display_data"
    }
   ],
   "source": [
    "map_view = gis.map(\"Arizona\")  # Adjust the location as needed\n",
    "\n",
    "# Add the raster layer directly to the map\n",
    "# map_view.add_layer(md_raster)  # Assuming md_raster is your Raster object\n",
    "map_view"
   ]
  },
  {
   "cell_type": "code",
   "execution_count": 5,
   "metadata": {},
   "outputs": [
    {
     "data": {
      "text/html": [
       "<div class=\"item_container\" style=\"height: auto; overflow: hidden; border: 1px solid #cfcfcf; border-radius: 2px; background: #f6fafa; line-height: 1.21429em; padding: 10px;\">\n",
       "                    <div class=\"item_left\" style=\"width: 210px; float: left;\">\n",
       "                       <a href='https://gis.earthdata.nasa.gov/portal/home/item.html?id=474a1016d4d54f97b99e6926328e01c1' target='_blank'>\n",
       "                        <img src='https://gis.earthdata.nasa.gov/portal/sharing/rest//content/items/474a1016d4d54f97b99e6926328e01c1/info/thumbnail/thumbnail1729088682156.png' class=\"itemThumbnail\">\n",
       "                       </a>\n",
       "                    </div>\n",
       "\n",
       "                    <div class=\"item_right\"     style=\"float: none; width: auto; overflow: hidden;\">\n",
       "                        <a href='https://gis.earthdata.nasa.gov/portal/home/item.html?id=474a1016d4d54f97b99e6926328e01c1' target='_blank'><b>(Under Development) Tropospheric Emissions: Monitoring of Pollution (TEMPO) Version 03 Level 3 Gridded Formaldehyde (HCHO) Vertical Column (BETA)</b>\n",
       "                        </a>\n",
       "                        <br/>The Tropospheric Emissions: Monitoring of Pollution (TEMPO) Formaldehyde Vertical Column Beta layer is a Cloud Raster Format (CRF) image service that provides information on the amount of formaldehyde in the atmosphere, available as approximately one-hour scans for daylight hours over North America, from August 2023 to present. These data should be considered as beta products and are not optimized for operational use.<img src='https://gis.earthdata.nasa.gov/portal/home/js/jsapi/esri/css/images/item_type_icons/imagery16.png' style=\"vertical-align:middle;\">Imagery Layer by ASDC_Publisher\n",
       "                        <br/>Last Modified: October 24, 2024\n",
       "                        <br/>0 comments, 75 views\n",
       "                    </div>\n",
       "                </div>\n",
       "                "
      ],
      "text/plain": [
       "<Item title:\"(Under Development) Tropospheric Emissions: Monitoring of Pollution (TEMPO) Version 03 Level 3 Gridded Formaldehyde (HCHO) Vertical Column (BETA)\" type:Imagery Layer owner:ASDC_Publisher>"
      ]
     },
     "metadata": {},
     "output_type": "display_data"
    },
    {
     "data": {
      "text/html": [
       "<div class=\"item_container\" style=\"height: auto; overflow: hidden; border: 1px solid #cfcfcf; border-radius: 2px; background: #f6fafa; line-height: 1.21429em; padding: 10px;\">\n",
       "                    <div class=\"item_left\" style=\"width: 210px; float: left;\">\n",
       "                       <a href='https://gis.earthdata.nasa.gov/portal/home/item.html?id=801a2e7885a24065ad08a14641df58d4' target='_blank'>\n",
       "                        <img src='https://gis.earthdata.nasa.gov/portal/sharing/rest//content/items/801a2e7885a24065ad08a14641df58d4/info/thumbnail/3DViewer_th.png' class=\"itemThumbnail\">\n",
       "                       </a>\n",
       "                    </div>\n",
       "\n",
       "                    <div class=\"item_right\"     style=\"float: none; width: auto; overflow: hidden;\">\n",
       "                        <a href='https://gis.earthdata.nasa.gov/portal/home/item.html?id=801a2e7885a24065ad08a14641df58d4' target='_blank'><b>3D Viewer</b>\n",
       "                        </a>\n",
       "                        <br/>Apresente uma cena 3D com uma variedade de ferramentas de medição e exploração 3D<img src='https://gis.earthdata.nasa.gov/portal/home/js/jsapi/esri/css/images/item_type_icons/layers16.png' style=\"vertical-align:middle;\">Web Mapping Application by esri_pt\n",
       "                        <br/>Last Modified: February 22, 2024\n",
       "                        <br/>0 comments, 0 views\n",
       "                    </div>\n",
       "                </div>\n",
       "                "
      ],
      "text/plain": [
       "<Item title:\"3D Viewer\" type:Web Mapping Application owner:esri_pt>"
      ]
     },
     "metadata": {},
     "output_type": "display_data"
    },
    {
     "data": {
      "text/html": [
       "<div class=\"item_container\" style=\"height: auto; overflow: hidden; border: 1px solid #cfcfcf; border-radius: 2px; background: #f6fafa; line-height: 1.21429em; padding: 10px;\">\n",
       "                    <div class=\"item_left\" style=\"width: 210px; float: left;\">\n",
       "                       <a href='https://gis.earthdata.nasa.gov/portal/home/item.html?id=9ae6e45a7e2f4aa98f91b7e4cd74a71d' target='_blank'>\n",
       "                        <img src='https://gis.earthdata.nasa.gov/portal/sharing/rest//content/items/9ae6e45a7e2f4aa98f91b7e4cd74a71d/info/thumbnail/CCDCAnalysis.png' class=\"itemThumbnail\">\n",
       "                       </a>\n",
       "                    </div>\n",
       "\n",
       "                    <div class=\"item_right\"     style=\"float: none; width: auto; overflow: hidden;\">\n",
       "                        <a href='https://gis.earthdata.nasa.gov/portal/home/item.html?id=9ae6e45a7e2f4aa98f91b7e4cd74a71d' target='_blank'><b>Análise CCDC</b>\n",
       "                        </a>\n",
       "                        <br/>Avalia alterações nos valores de píxeis ao longo do tempo utilizando o algoritmo de Deteção e Classificação de Alterações Contínuas (CCDC) e gera resultados de modelos.<img src='https://gis.earthdata.nasa.gov/portal/home/js/jsapi/esri/css/images/item_type_icons/layers16.png' style=\"vertical-align:middle;\">Raster function template by esri_po\n",
       "                        <br/>Last Modified: November 10, 2021\n",
       "                        <br/>0 comments, 0 views\n",
       "                    </div>\n",
       "                </div>\n",
       "                "
      ],
      "text/plain": [
       "<Item title:\"Análise CCDC\" type:Raster function template owner:esri_po>"
      ]
     },
     "metadata": {},
     "output_type": "display_data"
    }
   ],
   "source": [
    "#query Portal Content\n",
    "query=\"TEMPO\"\n",
    "max_items=3\n",
    "portal_content = gis.content.advanced_search(query=query, max_items=max_items)\n",
    "for item in portal_content['results']:\n",
    "        display (item)"
   ]
  },
  {
   "cell_type": "code",
   "execution_count": 6,
   "metadata": {},
   "outputs": [
    {
     "data": {
      "text/html": [
       "<div class=\"item_container\" style=\"height: auto; overflow: hidden; border: 1px solid #cfcfcf; border-radius: 2px; background: #f6fafa; line-height: 1.21429em; padding: 10px;\">\n",
       "                    <div class=\"item_left\" style=\"width: 210px; float: left;\">\n",
       "                       <a href='https://gis.earthdata.nasa.gov/portal/home/item.html?id=474a1016d4d54f97b99e6926328e01c1' target='_blank'>\n",
       "                        <img src='https://gis.earthdata.nasa.gov/portal/sharing/rest//content/items/474a1016d4d54f97b99e6926328e01c1/info/thumbnail/thumbnail1729088682156.png' class=\"itemThumbnail\">\n",
       "                       </a>\n",
       "                    </div>\n",
       "\n",
       "                    <div class=\"item_right\"     style=\"float: none; width: auto; overflow: hidden;\">\n",
       "                        <a href='https://gis.earthdata.nasa.gov/portal/home/item.html?id=474a1016d4d54f97b99e6926328e01c1' target='_blank'><b>(Under Development) Tropospheric Emissions: Monitoring of Pollution (TEMPO) Version 03 Level 3 Gridded Formaldehyde (HCHO) Vertical Column (BETA)</b>\n",
       "                        </a>\n",
       "                        <br/>The Tropospheric Emissions: Monitoring of Pollution (TEMPO) Formaldehyde Vertical Column Beta layer is a Cloud Raster Format (CRF) image service that provides information on the amount of formaldehyde in the atmosphere, available as approximately one-hour scans for daylight hours over North America, from August 2023 to present. These data should be considered as beta products and are not optimized for operational use.<img src='https://gis.earthdata.nasa.gov/portal/home/js/jsapi/esri/css/images/item_type_icons/imagery16.png' style=\"vertical-align:middle;\">Imagery Layer by ASDC_Publisher\n",
       "                        <br/>Last Modified: October 24, 2024\n",
       "                        <br/>0 comments, 75 views\n",
       "                    </div>\n",
       "                </div>\n",
       "                "
      ],
      "text/plain": [
       "<Item title:\"(Under Development) Tropospheric Emissions: Monitoring of Pollution (TEMPO) Version 03 Level 3 Gridded Formaldehyde (HCHO) Vertical Column (BETA)\" type:Imagery Layer owner:ASDC_Publisher>"
      ]
     },
     "execution_count": 6,
     "metadata": {},
     "output_type": "execute_result"
    }
   ],
   "source": [
    "item = portal_content['results'][0]\n",
    "item"
   ]
  },
  {
   "cell_type": "code",
   "execution_count": null,
   "metadata": {},
   "outputs": [],
   "source": []
  },
  {
   "cell_type": "code",
   "execution_count": null,
   "metadata": {},
   "outputs": [],
   "source": [
    "item_get"
   ]
  },
  {
   "cell_type": "code",
   "execution_count": 13,
   "metadata": {},
   "outputs": [
    {
     "data": {
      "text/plain": [
       "'474a1016d4d54f97b99e6926328e01c1'"
      ]
     },
     "execution_count": 13,
     "metadata": {},
     "output_type": "execute_result"
    }
   ],
   "source": [
    "tempo=item.id\n",
    "tempo"
   ]
  },
  {
   "cell_type": "code",
   "execution_count": 15,
   "metadata": {},
   "outputs": [
    {
     "data": {
      "text/html": [
       "<div class=\"item_container\" style=\"height: auto; overflow: hidden; border: 1px solid #cfcfcf; border-radius: 2px; background: #f6fafa; line-height: 1.21429em; padding: 10px;\">\n",
       "                    <div class=\"item_left\" style=\"width: 210px; float: left;\">\n",
       "                       <a href='https://gis.earthdata.nasa.gov/portal/home/item.html?id=474a1016d4d54f97b99e6926328e01c1' target='_blank'>\n",
       "                        <img src='https://gis.earthdata.nasa.gov/portal/sharing/rest//content/items/474a1016d4d54f97b99e6926328e01c1/info/thumbnail/thumbnail1729088682156.png' class=\"itemThumbnail\">\n",
       "                       </a>\n",
       "                    </div>\n",
       "\n",
       "                    <div class=\"item_right\"     style=\"float: none; width: auto; overflow: hidden;\">\n",
       "                        <a href='https://gis.earthdata.nasa.gov/portal/home/item.html?id=474a1016d4d54f97b99e6926328e01c1' target='_blank'><b>(Under Development) Tropospheric Emissions: Monitoring of Pollution (TEMPO) Version 03 Level 3 Gridded Formaldehyde (HCHO) Vertical Column (BETA)</b>\n",
       "                        </a>\n",
       "                        <br/>The Tropospheric Emissions: Monitoring of Pollution (TEMPO) Formaldehyde Vertical Column Beta layer is a Cloud Raster Format (CRF) image service that provides information on the amount of formaldehyde in the atmosphere, available as approximately one-hour scans for daylight hours over North America, from August 2023 to present. These data should be considered as beta products and are not optimized for operational use.<img src='https://gis.earthdata.nasa.gov/portal/home/js/jsapi/esri/css/images/item_type_icons/imagery16.png' style=\"vertical-align:middle;\">Imagery Layer by ASDC_Publisher\n",
       "                        <br/>Last Modified: October 24, 2024\n",
       "                        <br/>0 comments, 75 views\n",
       "                    </div>\n",
       "                </div>\n",
       "                "
      ],
      "text/plain": [
       "<Item title:\"(Under Development) Tropospheric Emissions: Monitoring of Pollution (TEMPO) Version 03 Level 3 Gridded Formaldehyde (HCHO) Vertical Column (BETA)\" type:Imagery Layer owner:ASDC_Publisher>"
      ]
     },
     "execution_count": 15,
     "metadata": {},
     "output_type": "execute_result"
    }
   ],
   "source": [
    "tempo_layer = gis.content.get(tempo)\n",
    "tempo_layer"
   ]
  },
  {
   "cell_type": "code",
   "execution_count": null,
   "metadata": {},
   "outputs": [],
   "source": []
  },
  {
   "cell_type": "code",
   "execution_count": 19,
   "metadata": {},
   "outputs": [
    {
     "ename": "AttributeError",
     "evalue": "'MapView' object has no attribute 'content'",
     "output_type": "error",
     "traceback": [
      "\u001b[1;31m---------------------------------------------------------------------------\u001b[0m",
      "\u001b[1;31mAttributeError\u001b[0m                            Traceback (most recent call last)",
      "\u001b[1;32m~\\AppData\\Local\\Temp\\9\\ipykernel_21632\\3925050711.py\u001b[0m in \u001b[0;36m<cell line: 3>\u001b[1;34m()\u001b[0m\n\u001b[0;32m      1\u001b[0m \u001b[1;31m# gis = GIS()\u001b[0m\u001b[1;33m\u001b[0m\u001b[1;33m\u001b[0m\u001b[0m\n\u001b[0;32m      2\u001b[0m \u001b[0mmap_view\u001b[0m \u001b[1;33m=\u001b[0m \u001b[0mgis\u001b[0m\u001b[1;33m.\u001b[0m\u001b[0mmap\u001b[0m\u001b[1;33m(\u001b[0m\u001b[1;33m)\u001b[0m\u001b[1;33m\u001b[0m\u001b[1;33m\u001b[0m\u001b[0m\n\u001b[1;32m----> 3\u001b[1;33m \u001b[0mmap_view\u001b[0m\u001b[1;33m.\u001b[0m\u001b[0mcontent\u001b[0m\u001b[1;33m.\u001b[0m\u001b[0madd\u001b[0m\u001b[1;33m(\u001b[0m\u001b[1;34m'474a1016d4d54f97b99e6926328e01c1'\u001b[0m\u001b[1;33m)\u001b[0m\u001b[1;33m\u001b[0m\u001b[1;33m\u001b[0m\u001b[0m\n\u001b[0m\u001b[0;32m      4\u001b[0m \u001b[1;31m# map_view.add_layer('474a1016d4d54f97b99e6926328e01c1')\u001b[0m\u001b[1;33m\u001b[0m\u001b[1;33m\u001b[0m\u001b[0m\n\u001b[0;32m      5\u001b[0m \u001b[0mmap_view\u001b[0m\u001b[1;33m.\u001b[0m\u001b[0mtime_slider\u001b[0m \u001b[1;33m=\u001b[0m \u001b[1;32mTrue\u001b[0m\u001b[1;33m\u001b[0m\u001b[1;33m\u001b[0m\u001b[0m\n",
      "\u001b[1;31mAttributeError\u001b[0m: 'MapView' object has no attribute 'content'"
     ]
    }
   ],
   "source": [
    "# gis = GIS()\n",
    "map_view = gis.map()\n",
    "map_view.content.add('474a1016d4d54f97b99e6926328e01c1')\n",
    "# map_view.add_layer('474a1016d4d54f97b99e6926328e01c1')\n",
    "map_view.time_slider = True\n",
    "map_view"
   ]
  },
  {
   "cell_type": "code",
   "execution_count": null,
   "metadata": {},
   "outputs": [],
   "source": [
    "item_layers = item.layers\n",
    "for layer in item_layers:\n",
    "    print(layer)\n"
   ]
  },
  {
   "cell_type": "code",
   "execution_count": null,
   "metadata": {},
   "outputs": [],
   "source": [
    "layer= item_layers[0]\n",
    "print(layer.url)\n",
    "layer"
   ]
  },
  {
   "cell_type": "code",
   "execution_count": null,
   "metadata": {},
   "outputs": [],
   "source": [
    "md_raster = Raster(layer.url, is_multidimensional=True, engine=None, gis=gis)\n",
    "md_raster.variable_names"
   ]
  },
  {
   "cell_type": "code",
   "execution_count": null,
   "metadata": {},
   "outputs": [],
   "source": [
    "var_name = md_raster.variable_names[0]\n",
    "var_name"
   ]
  },
  {
   "cell_type": "code",
   "execution_count": null,
   "metadata": {},
   "outputs": [],
   "source": [
    "time_variable_values = md_raster.multidimensional_info['multidimensionalInfo']['variables'][0]['dimensions'][0]['values']"
   ]
  },
  {
   "cell_type": "code",
   "execution_count": null,
   "metadata": {},
   "outputs": [],
   "source": [
    "len(time_variable_values)"
   ]
  },
  {
   "cell_type": "code",
   "execution_count": null,
   "metadata": {},
   "outputs": [],
   "source": [
    "single_time_var = time_variable_values[333]\n",
    "single_time_var"
   ]
  },
  {
   "cell_type": "code",
   "execution_count": null,
   "metadata": {},
   "outputs": [],
   "source": [
    "# Apply the multidimensional filter to subset the raster for the specified time\n",
    "filtered_raster = multidimensional_filter(\n",
    "    raster=md_raster,\n",
    "    variables=[var_name],\n",
    "    dimension={\"StdTime\": single_time_var}\n",
    ")\n"
   ]
  },
  {
   "cell_type": "code",
   "execution_count": null,
   "metadata": {},
   "outputs": [],
   "source": [
    "filtered_raster"
   ]
  },
  {
   "cell_type": "code",
   "execution_count": null,
   "metadata": {},
   "outputs": [],
   "source": [
    "map_view"
   ]
  },
  {
   "cell_type": "code",
   "execution_count": null,
   "metadata": {},
   "outputs": [],
   "source": [
    "map_view.add_layer(filtered_raster)"
   ]
  },
  {
   "cell_type": "code",
   "execution_count": null,
   "metadata": {},
   "outputs": [],
   "source": [
    "from arcgis.mapping import ImageryLayer\n",
    "\n",
    "# Assuming `filtered_raster` is your subsetted Raster\n",
    "imagery_layer = ImageryLayer(filtered_raster.url)\n",
    "\n",
    "# Add the ImageryLayer to the MapView\n",
    "# map_view = gis.map(\"Arizona\")\n",
    "map_view.add_layer(imagery_layer)\n",
    "map_view\n"
   ]
  },
  {
   "cell_type": "code",
   "execution_count": null,
   "metadata": {},
   "outputs": [],
   "source": [
    "from arcgis.mapping import MapView"
   ]
  },
  {
   "cell_type": "code",
   "execution_count": null,
   "metadata": {},
   "outputs": [],
   "source": [
    "# Display the filtered raster on a map\n",
    "map_view = gis.map(\"Your Location\")  # Replace with a relevant location or leave blank\n",
    "map_view.add_layer(filtered_raster)\n",
    "map_view"
   ]
  },
  {
   "cell_type": "code",
   "execution_count": null,
   "metadata": {},
   "outputs": [],
   "source": [
    "#Print Image Service Multidimensional Info\n",
    "print(md_raster.multidimensional_info)"
   ]
  },
  {
   "cell_type": "code",
   "execution_count": null,
   "metadata": {},
   "outputs": [],
   "source": [
    "item_content = gis.content.get(item.id)\n",
    "item_content"
   ]
  },
  {
   "cell_type": "code",
   "execution_count": null,
   "metadata": {},
   "outputs": [],
   "source": [
    "m = gis.map()\n",
    "m.add_layer(item_content)"
   ]
  },
  {
   "cell_type": "code",
   "execution_count": null,
   "metadata": {},
   "outputs": [],
   "source": [
    "for layer in item.layers:\n",
    "    print(layer.properties.name)"
   ]
  },
  {
   "cell_type": "code",
   "execution_count": null,
   "metadata": {},
   "outputs": [],
   "source": [
    "m = gis.map('Arizona', 3)\n",
    "m"
   ]
  },
  {
   "cell_type": "code",
   "execution_count": null,
   "metadata": {},
   "outputs": [],
   "source": []
  },
  {
   "cell_type": "code",
   "execution_count": null,
   "metadata": {},
   "outputs": [],
   "source": [
    "m.add_layer(gpw_bdc_layer)\n"
   ]
  },
  {
   "cell_type": "code",
   "execution_count": null,
   "metadata": {},
   "outputs": [],
   "source": [
    "pm25_layer = item.layers[0]\n",
    "pm25_layer"
   ]
  },
  {
   "cell_type": "code",
   "execution_count": null,
   "metadata": {},
   "outputs": [],
   "source": [
    "for fn in gpw_bdc_layer.properties.rasterFunctionInfos:\n",
    "    print(fn['name'])\n"
   ]
  },
  {
   "cell_type": "code",
   "execution_count": null,
   "metadata": {},
   "outputs": [],
   "source": [
    "gpw_bdc_layer.properties.rasterFunctionInfos[0]['name']"
   ]
  },
  {
   "cell_type": "code",
   "execution_count": null,
   "metadata": {},
   "outputs": [],
   "source": [
    "from arcgis.raster.functions import apply\n",
    "try:\n",
    "    processed_layer = apply(gpw_bdc_layer, \"None\")  # Use a valid function name here\n",
    "\n",
    "    # Add the processed layer to the map\n",
    "    map_view = gis.map('Arizona')\n",
    "    map_view.add_layer(processed_layer)\n",
    "    map_view\n",
    "\n",
    "except Exception as e:\n",
    "    print(\"An error occurred:\", e)"
   ]
  },
  {
   "cell_type": "code",
   "execution_count": null,
   "metadata": {},
   "outputs": [],
   "source": []
  },
  {
   "cell_type": "code",
   "execution_count": null,
   "metadata": {},
   "outputs": [],
   "source": [
    "gis = GIS(\"home\")\n",
    "map_view = gis.map('Arizona')\n",
    "map_view.add_layer(gpw_bdc_layer)\n",
    "map_view"
   ]
  },
  {
   "cell_type": "code",
   "execution_count": null,
   "metadata": {},
   "outputs": [],
   "source": [
    "#Assuming `gpw_bdc_layer` is your raster layer item\n",
    "# Apply a raster function to the layer\n",
    "processed_layer = apply(gpw_bdc_layer, gpw_bdc_layer.properties.rasterFunctionInfos[0]['name'])\n",
    "\n",
    "# Create a MapView and add the processed layer directly\n",
    "map_view = gis.map('Arizona')\n",
    "map_view.add_layer(processed_layer)\n",
    "map_view"
   ]
  },
  {
   "cell_type": "code",
   "execution_count": null,
   "metadata": {},
   "outputs": [],
   "source": [
    "show(gpw_bdc_layer)"
   ]
  },
  {
   "cell_type": "code",
   "execution_count": null,
   "metadata": {},
   "outputs": [],
   "source": [
    "item_content"
   ]
  },
  {
   "cell_type": "code",
   "execution_count": null,
   "metadata": {},
   "outputs": [],
   "source": [
    "\n",
    "item_content = gis.content.get(item_id)  # Retrieve the item by ID\n",
    "\n",
    "# Create a MapView and add the item as a layer\n",
    "map_view = gis.map()\n",
    "map_view.add_layer(item_content)\n",
    "map_view\n"
   ]
  },
  {
   "cell_type": "code",
   "execution_count": null,
   "metadata": {},
   "outputs": [],
   "source": [
    "map = gis.map()\n",
    "map.add_layer(item)\n",
    "map"
   ]
  },
  {
   "cell_type": "code",
   "execution_count": null,
   "metadata": {},
   "outputs": [],
   "source": []
  }
 ],
 "metadata": {
  "kernelspec": {
   "display_name": "Python 3 (ipykernel)",
   "language": "python",
   "name": "python3"
  },
  "language_info": {
   "codemirror_mode": {
    "name": "ipython",
    "version": 3
   },
   "file_extension": ".py",
   "mimetype": "text/x-python",
   "name": "python",
   "nbconvert_exporter": "python",
   "pygments_lexer": "ipython3",
   "version": "3.9.16"
  },
  "vscode": {
   "interpreter": {
    "hash": "ce21b655b4d6c9e397d5ad93d5666c623f49909f6d0cc2f72076dafcf1b3ecfb"
   }
  }
 },
 "nbformat": 4,
 "nbformat_minor": 2
}
